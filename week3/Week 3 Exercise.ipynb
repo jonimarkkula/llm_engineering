{
 "cells": [
  {
   "cell_type": "code",
   "execution_count": 1,
   "metadata": {
    "executionInfo": {
     "elapsed": 5627,
     "status": "ok",
     "timestamp": 1741114600996,
     "user": {
      "displayName": "Joni Markkula",
      "userId": "11717217391723296532"
     },
     "user_tz": -120
    },
    "id": "UnYf2-8ZNCt_"
   },
   "outputs": [],
   "source": [
    "!pip install -q requests torch bitsandbytes transformers sentencepiece accelerate gradio"
   ]
  },
  {
   "cell_type": "code",
   "execution_count": null,
   "metadata": {
    "executionInfo": {
     "elapsed": 17879,
     "status": "ok",
     "timestamp": 1741114618877,
     "user": {
      "displayName": "Joni Markkula",
      "userId": "11717217391723296532"
     },
     "user_tz": -120
    },
    "id": "ubbYak5LL2wA"
   },
   "outputs": [],
   "source": [
    "# imports\n",
    "\n",
    "import os\n",
    "import requests\n",
    "from IPython.display import Markdown, display, update_display\n",
    "from google.colab import drive, userdata\n",
    "from huggingface_hub import login\n",
    "from google.colab import userdata\n",
    "from transformers import AutoTokenizer, AutoModelForCausalLM, TextStreamer, BitsAndBytesConfig\n",
    "import gradio as gr\n",
    "import torch\n",
    "import json"
   ]
  },
  {
   "cell_type": "code",
   "execution_count": 3,
   "metadata": {
    "executionInfo": {
     "elapsed": 4,
     "status": "ok",
     "timestamp": 1741114618879,
     "user": {
      "displayName": "Joni Markkula",
      "userId": "11717217391723296532"
     },
     "user_tz": -120
    },
    "id": "YUvPtlVZN5mz"
   },
   "outputs": [],
   "source": [
    "# Constants\n",
    "\n",
    "LLAMA = \"meta-llama/Meta-Llama-3.1-8B-Instruct\""
   ]
  },
  {
   "cell_type": "code",
   "execution_count": 4,
   "metadata": {
    "executionInfo": {
     "elapsed": 1392,
     "status": "ok",
     "timestamp": 1741114620268,
     "user": {
      "displayName": "Joni Markkula",
      "userId": "11717217391723296532"
     },
     "user_tz": -120
    },
    "id": "C33ylsKZN8Z4"
   },
   "outputs": [],
   "source": [
    "# Sign in to HuggingFace Hub\n",
    "\n",
    "hf_token = userdata.get('HF_TOKEN')\n",
    "login(hf_token, add_to_git_credential=True)"
   ]
  },
  {
   "cell_type": "code",
   "execution_count": 5,
   "metadata": {
    "executionInfo": {
     "elapsed": 5,
     "status": "ok",
     "timestamp": 1741114620275,
     "user": {
      "displayName": "Joni Markkula",
      "userId": "11717217391723296532"
     },
     "user_tz": -120
    },
    "id": "wq2jHQClOBHb"
   },
   "outputs": [],
   "source": [
    "quant_config = BitsAndBytesConfig(\n",
    "    load_in_4bit=True,\n",
    "    bnb_4bit_use_double_quant=True,\n",
    "    bnb_4bit_compute_dtype=torch.bfloat16,\n",
    "    bnb_4bit_quant_type=\"nf4\"\n",
    ")"
   ]
  },
  {
   "cell_type": "code",
   "execution_count": 6,
   "metadata": {
    "colab": {
     "base_uri": "https://localhost:8080/",
     "height": 49,
     "referenced_widgets": [
      "712df0acdada4dba9f417e405a40876b",
      "ffcb1239920e48978153162684cb9bf9",
      "2a89ecb1ce9046b89fb8a095bee7b79a",
      "be9c4e980325453185d6b3f63d5b8f92",
      "dad386c303dc4e71afd77e8aafb2cfcc",
      "db9e00d1c4d543a8b523b04088ce2dcd",
      "aa477ff92c974e4a9b21ad3a878aa550",
      "619077071513414dba17e03f64df8b20",
      "b9a857bcd1a04171be11ffba23a195e6",
      "ac0e365b3b76433cb6c77006e8bb031c",
      "8e05877aaad14f55923fefc83c587868"
     ]
    },
    "executionInfo": {
     "elapsed": 87518,
     "status": "ok",
     "timestamp": 1741114707794,
     "user": {
      "displayName": "Joni Markkula",
      "userId": "11717217391723296532"
     },
     "user_tz": -120
    },
    "id": "gPTfGUb_OCfr",
    "outputId": "b5d8be04-35c0-4525-8d41-e03f2b500e84"
   },
   "outputs": [
    {
     "data": {
      "application/vnd.jupyter.widget-view+json": {
       "model_id": "712df0acdada4dba9f417e405a40876b",
       "version_major": 2,
       "version_minor": 0
      },
      "text/plain": [
       "Loading checkpoint shards:   0%|          | 0/4 [00:00<?, ?it/s]"
      ]
     },
     "metadata": {},
     "output_type": "display_data"
    }
   ],
   "source": [
    "tokenizer = AutoTokenizer.from_pretrained(LLAMA)\n",
    "tokenizer.pad_token = tokenizer.eos_token\n",
    "model = AutoModelForCausalLM.from_pretrained(LLAMA, device_map=\"auto\", quantization_config=quant_config)"
   ]
  },
  {
   "cell_type": "code",
   "execution_count": 27,
   "metadata": {
    "executionInfo": {
     "elapsed": 10,
     "status": "ok",
     "timestamp": 1741116244914,
     "user": {
      "displayName": "Joni Markkula",
      "userId": "11717217391723296532"
     },
     "user_tz": -120
    },
    "id": "0sBsyw4BRYqj"
   },
   "outputs": [],
   "source": [
    "def generate_instruction_response(topic, instructions, responses, num_inputs):\n",
    "\n",
    "    instructions = instructions.strip().split(\"\\n\")\n",
    "    responses = responses.strip().split(\"\\n\")\n",
    "\n",
    "    if len(instructions) != len(responses):\n",
    "        raise ValueError(\"Number of instructions and responses must be the same.\")\n",
    "\n",
    "    system_message = f\"\"\"\n",
    "    You are a helpful assistant. Your task is to generate dataset.\n",
    "    Topic: {topic}\n",
    "    Return the dataset in JSON format.\n",
    "    Do not repeat the provided examples.\n",
    "    Return {num_inputs + len(responses)} of examples in the dataset.\n",
    "    \"\"\"\n",
    "\n",
    "    messages = [{\"role\": \"system\", \"content\": system_message}]\n",
    "\n",
    "    for instruction, response in zip(instructions, responses):\n",
    "        messages.append({\"role\": \"user\", \"content\": instruction})\n",
    "        messages.append({\"role\": \"assistant\", \"content\": response})\n",
    "\n",
    "    inputs = tokenizer.apply_chat_template(messages, return_tensors=\"pt\").to(\"cuda\")\n",
    "\n",
    "    streamer = TextStreamer(tokenizer)\n",
    "    outputs = model.generate(inputs, max_new_tokens=5000, streamer=streamer)\n",
    "\n",
    "    return tokenizer.decode(outputs[0], skip_special_tokens=True)"
   ]
  },
  {
   "cell_type": "code",
   "execution_count": 28,
   "metadata": {
    "executionInfo": {
     "elapsed": 10,
     "status": "ok",
     "timestamp": 1741116246823,
     "user": {
      "displayName": "Joni Markkula",
      "userId": "11717217391723296532"
     },
     "user_tz": -120
    },
    "id": "a8nlZmJJOMYl"
   },
   "outputs": [],
   "source": [
    "def create_gradio_interface():\n",
    "    with gr.Blocks() as demo:\n",
    "        with gr.Column():\n",
    "            gr.Markdown(\"### Instruction-Response Dataset Generator\")\n",
    "            gr.Markdown(\"Define a topic and provide instruction-response pairs to generate a dataset.\")\n",
    "\n",
    "            topic_input = gr.Textbox(label=\"Topic\", placeholder=\"Enter the topic for your dataset\", lines=1)\n",
    "\n",
    "            instructions_input = gr.Textbox(label=\"Instructions\", placeholder=\"Enter instructions (separate multiple by new lines)\", lines=5)\n",
    "\n",
    "            responses_input = gr.Textbox(label=\"Responses\", placeholder=\"Enter responses (separate multiple by new lines)\", lines=5)\n",
    "\n",
    "            num_inputs = gr.Number(label=\"Number of examples to generate\", value=10)\n",
    "\n",
    "            generate_button = gr.Button(\"Generate Dataset\")\n",
    "\n",
    "            outputs=gr.Textbox(label=\"Generated Dataset\")\n",
    "\n",
    "            generate_button.click(generate_instruction_response,\n",
    "                                  inputs=[topic_input, instructions_input, responses_input, num_inputs],\n",
    "                                  outputs=outputs)\n",
    "\n",
    "    return demo"
   ]
  },
  {
   "cell_type": "code",
   "execution_count": null,
   "metadata": {
    "colab": {
     "base_uri": "https://localhost:8080/",
     "height": 626
    },
    "executionInfo": {
     "elapsed": 4165,
     "status": "ok",
     "timestamp": 1741116257083,
     "user": {
      "displayName": "Joni Markkula",
      "userId": "11717217391723296532"
     },
     "user_tz": -120
    },
    "id": "DfQVtystQxz8",
    "outputId": "c94ebdd0-c415-4187-9e61-247c565582a5"
   },
   "outputs": [],
   "source": [
    "demo = create_gradio_interface()\n",
    "demo.launch()"
   ]
  }
 ],
 "metadata": {
  "accelerator": "GPU",
  "colab": {
   "authorship_tag": "ABX9TyPcCUUvDCnLA7FMVUldISoO",
   "gpuType": "T4",
   "provenance": []
  },
  "kernelspec": {
   "display_name": "Python 3",
   "name": "python3"
  },
  "language_info": {
   "name": "python"
  },
  "widgets": {
   "application/vnd.jupyter.widget-state+json": {
    "2a89ecb1ce9046b89fb8a095bee7b79a": {
     "model_module": "@jupyter-widgets/controls",
     "model_module_version": "1.5.0",
     "model_name": "FloatProgressModel",
     "state": {
      "_dom_classes": [],
      "_model_module": "@jupyter-widgets/controls",
      "_model_module_version": "1.5.0",
      "_model_name": "FloatProgressModel",
      "_view_count": null,
      "_view_module": "@jupyter-widgets/controls",
      "_view_module_version": "1.5.0",
      "_view_name": "ProgressView",
      "bar_style": "success",
      "description": "",
      "description_tooltip": null,
      "layout": "IPY_MODEL_619077071513414dba17e03f64df8b20",
      "max": 4,
      "min": 0,
      "orientation": "horizontal",
      "style": "IPY_MODEL_b9a857bcd1a04171be11ffba23a195e6",
      "value": 4
     }
    },
    "619077071513414dba17e03f64df8b20": {
     "model_module": "@jupyter-widgets/base",
     "model_module_version": "1.2.0",
     "model_name": "LayoutModel",
     "state": {
      "_model_module": "@jupyter-widgets/base",
      "_model_module_version": "1.2.0",
      "_model_name": "LayoutModel",
      "_view_count": null,
      "_view_module": "@jupyter-widgets/base",
      "_view_module_version": "1.2.0",
      "_view_name": "LayoutView",
      "align_content": null,
      "align_items": null,
      "align_self": null,
      "border": null,
      "bottom": null,
      "display": null,
      "flex": null,
      "flex_flow": null,
      "grid_area": null,
      "grid_auto_columns": null,
      "grid_auto_flow": null,
      "grid_auto_rows": null,
      "grid_column": null,
      "grid_gap": null,
      "grid_row": null,
      "grid_template_areas": null,
      "grid_template_columns": null,
      "grid_template_rows": null,
      "height": null,
      "justify_content": null,
      "justify_items": null,
      "left": null,
      "margin": null,
      "max_height": null,
      "max_width": null,
      "min_height": null,
      "min_width": null,
      "object_fit": null,
      "object_position": null,
      "order": null,
      "overflow": null,
      "overflow_x": null,
      "overflow_y": null,
      "padding": null,
      "right": null,
      "top": null,
      "visibility": null,
      "width": null
     }
    },
    "712df0acdada4dba9f417e405a40876b": {
     "model_module": "@jupyter-widgets/controls",
     "model_module_version": "1.5.0",
     "model_name": "HBoxModel",
     "state": {
      "_dom_classes": [],
      "_model_module": "@jupyter-widgets/controls",
      "_model_module_version": "1.5.0",
      "_model_name": "HBoxModel",
      "_view_count": null,
      "_view_module": "@jupyter-widgets/controls",
      "_view_module_version": "1.5.0",
      "_view_name": "HBoxView",
      "box_style": "",
      "children": [
       "IPY_MODEL_ffcb1239920e48978153162684cb9bf9",
       "IPY_MODEL_2a89ecb1ce9046b89fb8a095bee7b79a",
       "IPY_MODEL_be9c4e980325453185d6b3f63d5b8f92"
      ],
      "layout": "IPY_MODEL_dad386c303dc4e71afd77e8aafb2cfcc"
     }
    },
    "8e05877aaad14f55923fefc83c587868": {
     "model_module": "@jupyter-widgets/controls",
     "model_module_version": "1.5.0",
     "model_name": "DescriptionStyleModel",
     "state": {
      "_model_module": "@jupyter-widgets/controls",
      "_model_module_version": "1.5.0",
      "_model_name": "DescriptionStyleModel",
      "_view_count": null,
      "_view_module": "@jupyter-widgets/base",
      "_view_module_version": "1.2.0",
      "_view_name": "StyleView",
      "description_width": ""
     }
    },
    "aa477ff92c974e4a9b21ad3a878aa550": {
     "model_module": "@jupyter-widgets/controls",
     "model_module_version": "1.5.0",
     "model_name": "DescriptionStyleModel",
     "state": {
      "_model_module": "@jupyter-widgets/controls",
      "_model_module_version": "1.5.0",
      "_model_name": "DescriptionStyleModel",
      "_view_count": null,
      "_view_module": "@jupyter-widgets/base",
      "_view_module_version": "1.2.0",
      "_view_name": "StyleView",
      "description_width": ""
     }
    },
    "ac0e365b3b76433cb6c77006e8bb031c": {
     "model_module": "@jupyter-widgets/base",
     "model_module_version": "1.2.0",
     "model_name": "LayoutModel",
     "state": {
      "_model_module": "@jupyter-widgets/base",
      "_model_module_version": "1.2.0",
      "_model_name": "LayoutModel",
      "_view_count": null,
      "_view_module": "@jupyter-widgets/base",
      "_view_module_version": "1.2.0",
      "_view_name": "LayoutView",
      "align_content": null,
      "align_items": null,
      "align_self": null,
      "border": null,
      "bottom": null,
      "display": null,
      "flex": null,
      "flex_flow": null,
      "grid_area": null,
      "grid_auto_columns": null,
      "grid_auto_flow": null,
      "grid_auto_rows": null,
      "grid_column": null,
      "grid_gap": null,
      "grid_row": null,
      "grid_template_areas": null,
      "grid_template_columns": null,
      "grid_template_rows": null,
      "height": null,
      "justify_content": null,
      "justify_items": null,
      "left": null,
      "margin": null,
      "max_height": null,
      "max_width": null,
      "min_height": null,
      "min_width": null,
      "object_fit": null,
      "object_position": null,
      "order": null,
      "overflow": null,
      "overflow_x": null,
      "overflow_y": null,
      "padding": null,
      "right": null,
      "top": null,
      "visibility": null,
      "width": null
     }
    },
    "b9a857bcd1a04171be11ffba23a195e6": {
     "model_module": "@jupyter-widgets/controls",
     "model_module_version": "1.5.0",
     "model_name": "ProgressStyleModel",
     "state": {
      "_model_module": "@jupyter-widgets/controls",
      "_model_module_version": "1.5.0",
      "_model_name": "ProgressStyleModel",
      "_view_count": null,
      "_view_module": "@jupyter-widgets/base",
      "_view_module_version": "1.2.0",
      "_view_name": "StyleView",
      "bar_color": null,
      "description_width": ""
     }
    },
    "be9c4e980325453185d6b3f63d5b8f92": {
     "model_module": "@jupyter-widgets/controls",
     "model_module_version": "1.5.0",
     "model_name": "HTMLModel",
     "state": {
      "_dom_classes": [],
      "_model_module": "@jupyter-widgets/controls",
      "_model_module_version": "1.5.0",
      "_model_name": "HTMLModel",
      "_view_count": null,
      "_view_module": "@jupyter-widgets/controls",
      "_view_module_version": "1.5.0",
      "_view_name": "HTMLView",
      "description": "",
      "description_tooltip": null,
      "layout": "IPY_MODEL_ac0e365b3b76433cb6c77006e8bb031c",
      "placeholder": "​",
      "style": "IPY_MODEL_8e05877aaad14f55923fefc83c587868",
      "value": " 4/4 [01:13&lt;00:00, 15.86s/it]"
     }
    },
    "dad386c303dc4e71afd77e8aafb2cfcc": {
     "model_module": "@jupyter-widgets/base",
     "model_module_version": "1.2.0",
     "model_name": "LayoutModel",
     "state": {
      "_model_module": "@jupyter-widgets/base",
      "_model_module_version": "1.2.0",
      "_model_name": "LayoutModel",
      "_view_count": null,
      "_view_module": "@jupyter-widgets/base",
      "_view_module_version": "1.2.0",
      "_view_name": "LayoutView",
      "align_content": null,
      "align_items": null,
      "align_self": null,
      "border": null,
      "bottom": null,
      "display": null,
      "flex": null,
      "flex_flow": null,
      "grid_area": null,
      "grid_auto_columns": null,
      "grid_auto_flow": null,
      "grid_auto_rows": null,
      "grid_column": null,
      "grid_gap": null,
      "grid_row": null,
      "grid_template_areas": null,
      "grid_template_columns": null,
      "grid_template_rows": null,
      "height": null,
      "justify_content": null,
      "justify_items": null,
      "left": null,
      "margin": null,
      "max_height": null,
      "max_width": null,
      "min_height": null,
      "min_width": null,
      "object_fit": null,
      "object_position": null,
      "order": null,
      "overflow": null,
      "overflow_x": null,
      "overflow_y": null,
      "padding": null,
      "right": null,
      "top": null,
      "visibility": null,
      "width": null
     }
    },
    "db9e00d1c4d543a8b523b04088ce2dcd": {
     "model_module": "@jupyter-widgets/base",
     "model_module_version": "1.2.0",
     "model_name": "LayoutModel",
     "state": {
      "_model_module": "@jupyter-widgets/base",
      "_model_module_version": "1.2.0",
      "_model_name": "LayoutModel",
      "_view_count": null,
      "_view_module": "@jupyter-widgets/base",
      "_view_module_version": "1.2.0",
      "_view_name": "LayoutView",
      "align_content": null,
      "align_items": null,
      "align_self": null,
      "border": null,
      "bottom": null,
      "display": null,
      "flex": null,
      "flex_flow": null,
      "grid_area": null,
      "grid_auto_columns": null,
      "grid_auto_flow": null,
      "grid_auto_rows": null,
      "grid_column": null,
      "grid_gap": null,
      "grid_row": null,
      "grid_template_areas": null,
      "grid_template_columns": null,
      "grid_template_rows": null,
      "height": null,
      "justify_content": null,
      "justify_items": null,
      "left": null,
      "margin": null,
      "max_height": null,
      "max_width": null,
      "min_height": null,
      "min_width": null,
      "object_fit": null,
      "object_position": null,
      "order": null,
      "overflow": null,
      "overflow_x": null,
      "overflow_y": null,
      "padding": null,
      "right": null,
      "top": null,
      "visibility": null,
      "width": null
     }
    },
    "ffcb1239920e48978153162684cb9bf9": {
     "model_module": "@jupyter-widgets/controls",
     "model_module_version": "1.5.0",
     "model_name": "HTMLModel",
     "state": {
      "_dom_classes": [],
      "_model_module": "@jupyter-widgets/controls",
      "_model_module_version": "1.5.0",
      "_model_name": "HTMLModel",
      "_view_count": null,
      "_view_module": "@jupyter-widgets/controls",
      "_view_module_version": "1.5.0",
      "_view_name": "HTMLView",
      "description": "",
      "description_tooltip": null,
      "layout": "IPY_MODEL_db9e00d1c4d543a8b523b04088ce2dcd",
      "placeholder": "​",
      "style": "IPY_MODEL_aa477ff92c974e4a9b21ad3a878aa550",
      "value": "Loading checkpoint shards: 100%"
     }
    }
   }
  }
 },
 "nbformat": 4,
 "nbformat_minor": 0
}
